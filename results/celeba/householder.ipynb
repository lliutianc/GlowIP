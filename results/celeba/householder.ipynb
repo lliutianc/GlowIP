{
 "cells": [
  {
   "cell_type": "code",
   "execution_count": 9,
   "id": "67875410",
   "metadata": {},
   "outputs": [],
   "source": [
    "import numpy as np\n",
    "\n",
    "import torch\n",
    "import torch.nn as nn"
   ]
  },
  {
   "cell_type": "code",
   "execution_count": 10,
   "id": "f99fdb65",
   "metadata": {},
   "outputs": [],
   "source": [
    "x_test = torch.randn(3, 4, 4) + 3\n",
    "noise = torch.randn(3, 4, 4)\n",
    "\n",
    "x_noisy = noise + x_test\n",
    "x_noisy = x_noisy.view(1, -1)"
   ]
  },
  {
   "cell_type": "code",
   "execution_count": 11,
   "id": "4ed6bd2a",
   "metadata": {},
   "outputs": [],
   "source": [
    "n = 3 * 4 * 4\n",
    "vs = [nn.Parameter(torch.randn(1, n),\n",
    "                   requires_grad=True) for _ in range(n)]\n",
    "\n",
    "sigma = nn.Parameter(torch.randn(1, n) * 0.1, requires_grad=True)\n",
    "mean = nn.Parameter(torch.randn(1, n) * 0.1, requires_grad=True)\n",
    "# vs = nn.Parameter(torch.randn(n, 1, n), requires_grad=True)\n",
    "optim = torch.optim.SGD(vs, 1)\n",
    "\n",
    "noise_init = torch.randn(1, n, 1)"
   ]
  },
  {
   "cell_type": "code",
   "execution_count": 12,
   "id": "4ab95f27",
   "metadata": {},
   "outputs": [],
   "source": [
    "def householder_caster(b, n, device='cpu'):    \n",
    "    def compute_householder_matrix(vs):\n",
    "        Qs = []\n",
    "        for i in range(b):\n",
    "            Q = torch.eye(n, device=device)\n",
    "            for v in vs:\n",
    "                vi = v[i].view(-1, 1)\n",
    "                vi = vi / vi.norm()\n",
    "                Qi = torch.eye(n, device=device, requires_grad=False) - 2 * torch.mm(vi, vi.permute(1, 0))\n",
    "                Q = torch.mm(Q, Qi)\n",
    "            Qs.append(Q)\n",
    "        return torch.stack(Qs)\n",
    "    return compute_householder_matrix"
   ]
  },
  {
   "cell_type": "code",
   "execution_count": 5,
   "id": "52d06bfe",
   "metadata": {},
   "outputs": [],
   "source": [
    "h = householder_caster(1, n)"
   ]
  },
  {
   "cell_type": "code",
   "execution_count": 6,
   "id": "2cbbd5a9",
   "metadata": {},
   "outputs": [
    {
     "data": {
      "text/plain": [
       "tensor([[[ 0.3069,  0.2826,  0.1630,  ...,  0.0331,  0.0143,  0.0502],\n",
       "         [-0.2939,  0.1148,  0.1347,  ...,  0.1534,  0.1014, -0.0770],\n",
       "         [ 0.0894,  0.1064,  0.4262,  ...,  0.0611,  0.2658, -0.1515],\n",
       "         ...,\n",
       "         [-0.1016,  0.0919, -0.1530,  ...,  0.1301,  0.1969, -0.1835],\n",
       "         [-0.0534, -0.0543,  0.0163,  ..., -0.1478,  0.3678, -0.0393],\n",
       "         [ 0.2041, -0.3262,  0.1283,  ..., -0.1729,  0.0631, -0.0146]]],\n",
       "       grad_fn=<StackBackward>)"
      ]
     },
     "execution_count": 6,
     "metadata": {},
     "output_type": "execute_result"
    }
   ],
   "source": [
    "h(vs)"
   ]
  },
  {
   "cell_type": "code",
   "execution_count": 7,
   "id": "e7fe08e0",
   "metadata": {},
   "outputs": [
    {
     "data": {
      "text/plain": [
       "torch.Size([1, 48, 1])"
      ]
     },
     "execution_count": 7,
     "metadata": {},
     "output_type": "execute_result"
    }
   ],
   "source": [
    "noise_init.shape"
   ]
  },
  {
   "cell_type": "code",
   "execution_count": 8,
   "id": "98b5421a",
   "metadata": {},
   "outputs": [
    {
     "name": "stdout",
     "output_type": "stream",
     "text": [
      "rotated: mean=0.941, std=0.094\n",
      "residual=67.04375, loss=2.58793\n",
      "--\n",
      "rotated: mean=0.946, std=0.008\n",
      "residual=67.02762, loss=2.58708\n",
      "--\n",
      "rotated: mean=0.946, std=0.001\n",
      "residual=67.02757, loss=2.58707\n",
      "--\n",
      "rotated: mean=0.946, std=0.000\n",
      "residual=67.02758, loss=2.58707\n",
      "--\n",
      "rotated: mean=0.946, std=0.000\n",
      "residual=67.02753, loss=2.58707\n",
      "--\n",
      "rotated: mean=0.946, std=0.000\n",
      "residual=67.02754, loss=2.58707\n",
      "--\n",
      "rotated: mean=0.946, std=0.000\n",
      "residual=67.02756, loss=2.58707\n",
      "--\n",
      "rotated: mean=0.946, std=0.000\n",
      "residual=67.02754, loss=2.58707\n",
      "--\n",
      "rotated: mean=0.946, std=0.000\n",
      "residual=67.02755, loss=2.58707\n",
      "--\n"
     ]
    }
   ],
   "source": [
    "for t in range(1000):\n",
    "    optim.zero_grad()\n",
    "    noise_est = h(vs) @ noise_init #(torch.randn(1, n, 1) * sigma + mean)\n",
    "    x_recov = x_noisy - noise_est\n",
    "    loss = (x_recov - 3) ** 2\n",
    "    loss = loss.mean()\n",
    "    loss.backward()\n",
    "    optim.step()\n",
    "    if t > 0 and t % 100 == 0:\n",
    "        with torch.no_grad():\n",
    "            residual = torch.norm(noise_est - noise.view(1, -1))\n",
    "            print(f'rotated: mean={noise_est.mean():.3f}, std={noise_est.std():.3f}')\n",
    "            print(f'residual={residual.item():.5f}, loss={loss.item():.5f}')\n",
    "            print('--')\n",
    "#             print(vs[0][0][:5])"
   ]
  },
  {
   "cell_type": "code",
   "execution_count": null,
   "id": "34c29a4d",
   "metadata": {},
   "outputs": [],
   "source": [
    "noise_est = h(vs) @ noise_init\n",
    "noise_est.std()"
   ]
  },
  {
   "cell_type": "code",
   "execution_count": null,
   "id": "299dbad2",
   "metadata": {},
   "outputs": [],
   "source": [
    "noise_est.mean()"
   ]
  },
  {
   "cell_type": "code",
   "execution_count": null,
   "id": "16a05ebf",
   "metadata": {},
   "outputs": [],
   "source": [
    "noise_init.std()"
   ]
  },
  {
   "cell_type": "code",
   "execution_count": null,
   "id": "b7867fb8",
   "metadata": {},
   "outputs": [],
   "source": [
    "noise_init.mean()"
   ]
  },
  {
   "cell_type": "code",
   "execution_count": null,
   "id": "9f9e53b9",
   "metadata": {},
   "outputs": [],
   "source": []
  }
 ],
 "metadata": {
  "kernelspec": {
   "display_name": "Python 3",
   "language": "python",
   "name": "python3"
  },
  "language_info": {
   "codemirror_mode": {
    "name": "ipython",
    "version": 3
   },
   "file_extension": ".py",
   "mimetype": "text/x-python",
   "name": "python",
   "nbconvert_exporter": "python",
   "pygments_lexer": "ipython3",
   "version": "3.8.5"
  }
 },
 "nbformat": 4,
 "nbformat_minor": 5
}
